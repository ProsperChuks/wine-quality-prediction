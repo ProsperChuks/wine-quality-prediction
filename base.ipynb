{
  "nbformat": 4,
  "nbformat_minor": 0,
  "metadata": {
    "colab": {
      "name": "base.ipynb",
      "provenance": [],
      "collapsed_sections": [],
      "toc_visible": true,
      "mount_file_id": "1a4M7I1t8HbaO_F6Z79QIwV8CoYT4fSzJ",
      "authorship_tag": "ABX9TyP0iQKBk46fwRyjvHGpGmii",
      "include_colab_link": true
    },
    "kernelspec": {
      "name": "python3",
      "display_name": "Python 3"
    },
    "language_info": {
      "name": "python"
    }
  },
  "cells": [
    {
      "cell_type": "markdown",
      "metadata": {
        "id": "view-in-github",
        "colab_type": "text"
      },
      "source": [
        "<a href=\"https://colab.research.google.com/github/ProsperChuks/wine-quality-prediction/blob/main/base.ipynb\" target=\"_parent\"><img src=\"https://colab.research.google.com/assets/colab-badge.svg\" alt=\"Open In Colab\"/></a>"
      ]
    },
    {
      "cell_type": "markdown",
      "metadata": {
        "id": "Mz1BEqba0xgV"
      },
      "source": [
        "## Dependencies"
      ]
    },
    {
      "cell_type": "code",
      "metadata": {
        "id": "q2cKkj0frlyU"
      },
      "source": [
        "import warnings\n",
        "warnings.filterwarnings('ignore')\n",
        "import pandas as pd\n",
        "import numpy as np\n",
        "import matplotlib.pyplot as plt\n",
        "import seaborn as sns\n",
        "from statistics import mean\n",
        "from sklearn.preprocessing import MinMaxScaler\n",
        "from sklearn.model_selection import train_test_split\n",
        "from sklearn.linear_model import LinearRegression\n",
        "from sklearn.linear_model import LogisticRegression"
      ],
      "execution_count": 27,
      "outputs": []
    },
    {
      "cell_type": "markdown",
      "metadata": {
        "id": "IxEJlo2GxXfU"
      },
      "source": [
        "## Load DataSet"
      ]
    },
    {
      "cell_type": "code",
      "metadata": {
        "colab": {
          "base_uri": "https://localhost:8080/",
          "height": 441
        },
        "id": "8Yen_lvDxUUj",
        "outputId": "c13fdb51-4b88-4355-b7f4-37cac7dcc16c"
      },
      "source": [
        "path = '/content/drive/MyDrive/Colab Notebooks/Wine Quality Project/winequality-red.csv'\n",
        "\n",
        "dataframe = pd.read_csv(path, error_bad_lines=False)\n",
        "dataframe"
      ],
      "execution_count": 28,
      "outputs": [
        {
          "output_type": "execute_result",
          "data": {
            "text/html": [
              "<div>\n",
              "<style scoped>\n",
              "    .dataframe tbody tr th:only-of-type {\n",
              "        vertical-align: middle;\n",
              "    }\n",
              "\n",
              "    .dataframe tbody tr th {\n",
              "        vertical-align: top;\n",
              "    }\n",
              "\n",
              "    .dataframe thead th {\n",
              "        text-align: right;\n",
              "    }\n",
              "</style>\n",
              "<table border=\"1\" class=\"dataframe\">\n",
              "  <thead>\n",
              "    <tr style=\"text-align: right;\">\n",
              "      <th></th>\n",
              "      <th>fixed acidity</th>\n",
              "      <th>volatile acidity</th>\n",
              "      <th>citric acid</th>\n",
              "      <th>residual sugar</th>\n",
              "      <th>chlorides</th>\n",
              "      <th>free sulfur dioxide</th>\n",
              "      <th>total sulfur dioxide</th>\n",
              "      <th>density</th>\n",
              "      <th>pH</th>\n",
              "      <th>sulphates</th>\n",
              "      <th>alcohol</th>\n",
              "      <th>quality</th>\n",
              "    </tr>\n",
              "  </thead>\n",
              "  <tbody>\n",
              "    <tr>\n",
              "      <th>0</th>\n",
              "      <td>7.4</td>\n",
              "      <td>0.700</td>\n",
              "      <td>0.00</td>\n",
              "      <td>1.9</td>\n",
              "      <td>0.076</td>\n",
              "      <td>11.0</td>\n",
              "      <td>34.0</td>\n",
              "      <td>0.99780</td>\n",
              "      <td>3.51</td>\n",
              "      <td>0.56</td>\n",
              "      <td>9.4</td>\n",
              "      <td>5</td>\n",
              "    </tr>\n",
              "    <tr>\n",
              "      <th>1</th>\n",
              "      <td>7.8</td>\n",
              "      <td>0.880</td>\n",
              "      <td>0.00</td>\n",
              "      <td>2.6</td>\n",
              "      <td>0.098</td>\n",
              "      <td>25.0</td>\n",
              "      <td>67.0</td>\n",
              "      <td>0.99680</td>\n",
              "      <td>3.20</td>\n",
              "      <td>0.68</td>\n",
              "      <td>9.8</td>\n",
              "      <td>5</td>\n",
              "    </tr>\n",
              "    <tr>\n",
              "      <th>2</th>\n",
              "      <td>7.8</td>\n",
              "      <td>0.760</td>\n",
              "      <td>0.04</td>\n",
              "      <td>2.3</td>\n",
              "      <td>0.092</td>\n",
              "      <td>15.0</td>\n",
              "      <td>54.0</td>\n",
              "      <td>0.99700</td>\n",
              "      <td>3.26</td>\n",
              "      <td>0.65</td>\n",
              "      <td>9.8</td>\n",
              "      <td>5</td>\n",
              "    </tr>\n",
              "    <tr>\n",
              "      <th>3</th>\n",
              "      <td>11.2</td>\n",
              "      <td>0.280</td>\n",
              "      <td>0.56</td>\n",
              "      <td>1.9</td>\n",
              "      <td>0.075</td>\n",
              "      <td>17.0</td>\n",
              "      <td>60.0</td>\n",
              "      <td>0.99800</td>\n",
              "      <td>3.16</td>\n",
              "      <td>0.58</td>\n",
              "      <td>9.8</td>\n",
              "      <td>6</td>\n",
              "    </tr>\n",
              "    <tr>\n",
              "      <th>4</th>\n",
              "      <td>7.4</td>\n",
              "      <td>0.700</td>\n",
              "      <td>0.00</td>\n",
              "      <td>1.9</td>\n",
              "      <td>0.076</td>\n",
              "      <td>11.0</td>\n",
              "      <td>34.0</td>\n",
              "      <td>0.99780</td>\n",
              "      <td>3.51</td>\n",
              "      <td>0.56</td>\n",
              "      <td>9.4</td>\n",
              "      <td>5</td>\n",
              "    </tr>\n",
              "    <tr>\n",
              "      <th>...</th>\n",
              "      <td>...</td>\n",
              "      <td>...</td>\n",
              "      <td>...</td>\n",
              "      <td>...</td>\n",
              "      <td>...</td>\n",
              "      <td>...</td>\n",
              "      <td>...</td>\n",
              "      <td>...</td>\n",
              "      <td>...</td>\n",
              "      <td>...</td>\n",
              "      <td>...</td>\n",
              "      <td>...</td>\n",
              "    </tr>\n",
              "    <tr>\n",
              "      <th>1594</th>\n",
              "      <td>6.2</td>\n",
              "      <td>0.600</td>\n",
              "      <td>0.08</td>\n",
              "      <td>2.0</td>\n",
              "      <td>0.090</td>\n",
              "      <td>32.0</td>\n",
              "      <td>44.0</td>\n",
              "      <td>0.99490</td>\n",
              "      <td>3.45</td>\n",
              "      <td>0.58</td>\n",
              "      <td>10.5</td>\n",
              "      <td>5</td>\n",
              "    </tr>\n",
              "    <tr>\n",
              "      <th>1595</th>\n",
              "      <td>5.9</td>\n",
              "      <td>0.550</td>\n",
              "      <td>0.10</td>\n",
              "      <td>2.2</td>\n",
              "      <td>0.062</td>\n",
              "      <td>39.0</td>\n",
              "      <td>51.0</td>\n",
              "      <td>0.99512</td>\n",
              "      <td>3.52</td>\n",
              "      <td>0.76</td>\n",
              "      <td>11.2</td>\n",
              "      <td>6</td>\n",
              "    </tr>\n",
              "    <tr>\n",
              "      <th>1596</th>\n",
              "      <td>6.3</td>\n",
              "      <td>0.510</td>\n",
              "      <td>0.13</td>\n",
              "      <td>2.3</td>\n",
              "      <td>0.076</td>\n",
              "      <td>29.0</td>\n",
              "      <td>40.0</td>\n",
              "      <td>0.99574</td>\n",
              "      <td>3.42</td>\n",
              "      <td>0.75</td>\n",
              "      <td>11.0</td>\n",
              "      <td>6</td>\n",
              "    </tr>\n",
              "    <tr>\n",
              "      <th>1597</th>\n",
              "      <td>5.9</td>\n",
              "      <td>0.645</td>\n",
              "      <td>0.12</td>\n",
              "      <td>2.0</td>\n",
              "      <td>0.075</td>\n",
              "      <td>32.0</td>\n",
              "      <td>44.0</td>\n",
              "      <td>0.99547</td>\n",
              "      <td>3.57</td>\n",
              "      <td>0.71</td>\n",
              "      <td>10.2</td>\n",
              "      <td>5</td>\n",
              "    </tr>\n",
              "    <tr>\n",
              "      <th>1598</th>\n",
              "      <td>6.0</td>\n",
              "      <td>0.310</td>\n",
              "      <td>0.47</td>\n",
              "      <td>3.6</td>\n",
              "      <td>0.067</td>\n",
              "      <td>18.0</td>\n",
              "      <td>42.0</td>\n",
              "      <td>0.99549</td>\n",
              "      <td>3.39</td>\n",
              "      <td>0.66</td>\n",
              "      <td>11.0</td>\n",
              "      <td>6</td>\n",
              "    </tr>\n",
              "  </tbody>\n",
              "</table>\n",
              "<p>1599 rows × 12 columns</p>\n",
              "</div>"
            ],
            "text/plain": [
              "      fixed acidity  volatile acidity  citric acid  ...  sulphates  alcohol  quality\n",
              "0               7.4             0.700         0.00  ...       0.56      9.4        5\n",
              "1               7.8             0.880         0.00  ...       0.68      9.8        5\n",
              "2               7.8             0.760         0.04  ...       0.65      9.8        5\n",
              "3              11.2             0.280         0.56  ...       0.58      9.8        6\n",
              "4               7.4             0.700         0.00  ...       0.56      9.4        5\n",
              "...             ...               ...          ...  ...        ...      ...      ...\n",
              "1594            6.2             0.600         0.08  ...       0.58     10.5        5\n",
              "1595            5.9             0.550         0.10  ...       0.76     11.2        6\n",
              "1596            6.3             0.510         0.13  ...       0.75     11.0        6\n",
              "1597            5.9             0.645         0.12  ...       0.71     10.2        5\n",
              "1598            6.0             0.310         0.47  ...       0.66     11.0        6\n",
              "\n",
              "[1599 rows x 12 columns]"
            ]
          },
          "metadata": {},
          "execution_count": 28
        }
      ]
    },
    {
      "cell_type": "markdown",
      "metadata": {
        "id": "0JWioN-73gBI"
      },
      "source": [
        "## Processing the data"
      ]
    },
    {
      "cell_type": "code",
      "metadata": {
        "colab": {
          "base_uri": "https://localhost:8080/",
          "height": 423
        },
        "id": "ywmOa6PB3j0Z",
        "outputId": "2bb8fb00-e8cd-41a2-e51f-dfbebaff7a53"
      },
      "source": [
        "correlation = dataframe.corr()['quality'].drop(['quality'])\n",
        "\n",
        "columns_to_drop = ['citric acid', 'chlorides',\n",
        "                   'residual sugar','quality',\n",
        "                   'free sulfur dioxide',\n",
        "                   'total sulfur dioxide',\n",
        "                   'pH', 'sulphates']\n",
        "\n",
        "scaler = MinMaxScaler()\n",
        "normalized_df = scaler.fit_transform(dataframe.drop(columns_to_drop, axis=1))\n",
        "features = pd.DataFrame(normalized_df, columns=dataframe.drop(columns_to_drop, axis=1).columns)\n",
        "target = dataframe['quality']\n",
        "\n",
        "x_train, x_test, y_train, y_test = train_test_split(features, target, test_size=0.3, random_state=30)\n",
        "x_test"
      ],
      "execution_count": 29,
      "outputs": [
        {
          "output_type": "execute_result",
          "data": {
            "text/html": [
              "<div>\n",
              "<style scoped>\n",
              "    .dataframe tbody tr th:only-of-type {\n",
              "        vertical-align: middle;\n",
              "    }\n",
              "\n",
              "    .dataframe tbody tr th {\n",
              "        vertical-align: top;\n",
              "    }\n",
              "\n",
              "    .dataframe thead th {\n",
              "        text-align: right;\n",
              "    }\n",
              "</style>\n",
              "<table border=\"1\" class=\"dataframe\">\n",
              "  <thead>\n",
              "    <tr style=\"text-align: right;\">\n",
              "      <th></th>\n",
              "      <th>fixed acidity</th>\n",
              "      <th>volatile acidity</th>\n",
              "      <th>density</th>\n",
              "      <th>alcohol</th>\n",
              "    </tr>\n",
              "  </thead>\n",
              "  <tbody>\n",
              "    <tr>\n",
              "      <th>1147</th>\n",
              "      <td>0.477876</td>\n",
              "      <td>0.198630</td>\n",
              "      <td>0.510279</td>\n",
              "      <td>0.523077</td>\n",
              "    </tr>\n",
              "    <tr>\n",
              "      <th>659</th>\n",
              "      <td>0.221239</td>\n",
              "      <td>0.493151</td>\n",
              "      <td>0.508811</td>\n",
              "      <td>0.400000</td>\n",
              "    </tr>\n",
              "    <tr>\n",
              "      <th>871</th>\n",
              "      <td>0.203540</td>\n",
              "      <td>0.301370</td>\n",
              "      <td>0.378120</td>\n",
              "      <td>0.338462</td>\n",
              "    </tr>\n",
              "    <tr>\n",
              "      <th>1333</th>\n",
              "      <td>0.398230</td>\n",
              "      <td>0.448630</td>\n",
              "      <td>0.552863</td>\n",
              "      <td>0.184615</td>\n",
              "    </tr>\n",
              "    <tr>\n",
              "      <th>1411</th>\n",
              "      <td>0.159292</td>\n",
              "      <td>0.239726</td>\n",
              "      <td>0.457416</td>\n",
              "      <td>0.338462</td>\n",
              "    </tr>\n",
              "    <tr>\n",
              "      <th>...</th>\n",
              "      <td>...</td>\n",
              "      <td>...</td>\n",
              "      <td>...</td>\n",
              "      <td>...</td>\n",
              "    </tr>\n",
              "    <tr>\n",
              "      <th>72</th>\n",
              "      <td>0.274336</td>\n",
              "      <td>0.390411</td>\n",
              "      <td>0.442731</td>\n",
              "      <td>0.169231</td>\n",
              "    </tr>\n",
              "    <tr>\n",
              "      <th>754</th>\n",
              "      <td>0.283186</td>\n",
              "      <td>0.246575</td>\n",
              "      <td>0.476505</td>\n",
              "      <td>0.107692</td>\n",
              "    </tr>\n",
              "    <tr>\n",
              "      <th>1059</th>\n",
              "      <td>0.380531</td>\n",
              "      <td>0.246575</td>\n",
              "      <td>0.425110</td>\n",
              "      <td>0.569231</td>\n",
              "    </tr>\n",
              "    <tr>\n",
              "      <th>1400</th>\n",
              "      <td>0.292035</td>\n",
              "      <td>0.390411</td>\n",
              "      <td>0.450073</td>\n",
              "      <td>0.230769</td>\n",
              "    </tr>\n",
              "    <tr>\n",
              "      <th>1330</th>\n",
              "      <td>0.247788</td>\n",
              "      <td>0.328767</td>\n",
              "      <td>0.447137</td>\n",
              "      <td>0.215385</td>\n",
              "    </tr>\n",
              "  </tbody>\n",
              "</table>\n",
              "<p>480 rows × 4 columns</p>\n",
              "</div>"
            ],
            "text/plain": [
              "      fixed acidity  volatile acidity   density   alcohol\n",
              "1147       0.477876          0.198630  0.510279  0.523077\n",
              "659        0.221239          0.493151  0.508811  0.400000\n",
              "871        0.203540          0.301370  0.378120  0.338462\n",
              "1333       0.398230          0.448630  0.552863  0.184615\n",
              "1411       0.159292          0.239726  0.457416  0.338462\n",
              "...             ...               ...       ...       ...\n",
              "72         0.274336          0.390411  0.442731  0.169231\n",
              "754        0.283186          0.246575  0.476505  0.107692\n",
              "1059       0.380531          0.246575  0.425110  0.569231\n",
              "1400       0.292035          0.390411  0.450073  0.230769\n",
              "1330       0.247788          0.328767  0.447137  0.215385\n",
              "\n",
              "[480 rows x 4 columns]"
            ]
          },
          "metadata": {},
          "execution_count": 29
        }
      ]
    },
    {
      "cell_type": "markdown",
      "metadata": {
        "id": "30rT6jpai93M"
      },
      "source": [
        "## Training the data\n",
        "using Linear Regression"
      ]
    },
    {
      "cell_type": "code",
      "metadata": {
        "colab": {
          "base_uri": "https://localhost:8080/"
        },
        "id": "LV345klxi6yV",
        "outputId": "5bdf2ac9-c7c4-4cb2-c3df-1de9a2699283"
      },
      "source": [
        "model = LinearRegression().fit(x_train, y_train)\n",
        "pred = model.predict(x_test)\n",
        "model.score(x_test, y_test)"
      ],
      "execution_count": 30,
      "outputs": [
        {
          "output_type": "execute_result",
          "data": {
            "text/plain": [
              "0.32801211414081044"
            ]
          },
          "metadata": {},
          "execution_count": 30
        }
      ]
    },
    {
      "cell_type": "code",
      "metadata": {
        "colab": {
          "base_uri": "https://localhost:8080/"
        },
        "id": "2XmlzUM2669p",
        "outputId": "0eb86271-0982-4683-bcbe-7f3cdab14f08"
      },
      "source": [
        "from sklearn.metrics import mean_absolute_error\n",
        "mae = mean_absolute_error(y_test, pred)\n",
        "print('%.3f'%mae, 'MAE')\n",
        "\n",
        "from sklearn.metrics import mean_squared_error\n",
        "rmse = np.sqrt(mean_squared_error(y_test, pred))\n",
        "print('%.3f'%rmse, 'RMSE')\n",
        "\n",
        "from sklearn.metrics import r2_score\n",
        "r2 = r2_score(y_test, pred)\n",
        "print('%.3f'%r2, 'R-Squared')"
      ],
      "execution_count": 31,
      "outputs": [
        {
          "output_type": "stream",
          "name": "stdout",
          "text": [
            "0.531 MAE\n",
            "0.672 RMSE\n",
            "0.328 R-Squared\n"
          ]
        }
      ]
    },
    {
      "cell_type": "markdown",
      "metadata": {
        "id": "VPu1jfTAiZe_"
      },
      "source": [
        "## Training with a classification model"
      ]
    },
    {
      "cell_type": "markdown",
      "metadata": {
        "id": "hfyCqRtZtrSv"
      },
      "source": [
        "### pre-processing data for classification"
      ]
    },
    {
      "cell_type": "code",
      "metadata": {
        "colab": {
          "base_uri": "https://localhost:8080/"
        },
        "id": "SIUtOO7qi3nO",
        "outputId": "b5eb23db-1edd-490d-be24-da398bfaa141"
      },
      "source": [
        "print(dataframe['quality'].value_counts())\n",
        "\n",
        "dataframe['quality'] = dataframe['quality'].replace([3], 4)\n",
        "dataframe['quality'] = dataframe['quality'].replace([8], 7)\n",
        "print(dataframe['quality'].value_counts())\n",
        "\n",
        "dataframe = dataframe.drop('residual sugar', axis=1)\n",
        "X = dataframe.drop('quality', axis=1)\n",
        "y = dataframe.quality\n",
        "\n",
        "x_train, x_test, y_train, y_test = train_test_split(X, y, test_size=0.4, random_state=10)\n",
        "y_train.value_counts()"
      ],
      "execution_count": 32,
      "outputs": [
        {
          "output_type": "stream",
          "name": "stdout",
          "text": [
            "5    681\n",
            "6    638\n",
            "7    199\n",
            "4     53\n",
            "8     18\n",
            "3     10\n",
            "Name: quality, dtype: int64\n",
            "5    681\n",
            "6    638\n",
            "7    217\n",
            "4     63\n",
            "Name: quality, dtype: int64\n"
          ]
        },
        {
          "output_type": "execute_result",
          "data": {
            "text/plain": [
              "5    407\n",
              "6    390\n",
              "7    126\n",
              "4     36\n",
              "Name: quality, dtype: int64"
            ]
          },
          "metadata": {},
          "execution_count": 32
        }
      ]
    },
    {
      "cell_type": "markdown",
      "metadata": {
        "id": "iqLUUBSwulVD"
      },
      "source": [
        "### training the data"
      ]
    },
    {
      "cell_type": "code",
      "metadata": {
        "colab": {
          "base_uri": "https://localhost:8080/"
        },
        "id": "MfQ8T2y7slo-",
        "outputId": "bffe0467-6385-4c45-d7fc-a35455fcb7c9"
      },
      "source": [
        "import imblearn\n",
        "from imblearn.over_sampling import SMOTE\n",
        "smote = SMOTE(random_state=1)\n",
        "x_train_balanced, y_balanced = smote.fit_sample(x_train, y_train)\n",
        "\n",
        "x_train_balanced = pd.DataFrame(x_train_balanced, columns=x_train.columns)\n",
        "y_balanced = pd.DataFrame(y_balanced, columns=['quality'])\n",
        "\n",
        "normalized_train = scaler.fit_transform(x_train_balanced)\n",
        "normalized_train = pd.DataFrame(normalized_train, columns=x_train_balanced.columns)\n",
        "\n",
        "normalized_test = scaler.fit_transform(x_test)\n",
        "normalized_test = pd.DataFrame(normalized_test, columns=x_train_balanced.columns)\n",
        "\n",
        "# model\n",
        "model = LogisticRegression(C=1).fit(normalized_train, y_balanced)\n",
        "pred = model.predict(normalized_test)\n",
        "model.score(normalized_train, y_balanced)"
      ],
      "execution_count": 33,
      "outputs": [
        {
          "output_type": "execute_result",
          "data": {
            "text/plain": [
              "0.597051597051597"
            ]
          },
          "metadata": {},
          "execution_count": 33
        }
      ]
    }
  ]
}